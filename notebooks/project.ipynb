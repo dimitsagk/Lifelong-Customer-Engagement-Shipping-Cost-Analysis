{
 "cells": [
  {
   "cell_type": "markdown",
   "metadata": {},
   "source": [
    "# Goal"
   ]
  },
  {
   "cell_type": "markdown",
   "metadata": {},
   "source": [
    "The goal is to gain insights into how the company can cultivate more lifelong customers, defined in this context as clients who order almost every month. \n",
    "I aim to test the hypothesis regarding whether shipping costs influence the ordering behavior of customers."
   ]
  },
  {
   "cell_type": "markdown",
   "metadata": {},
   "source": [
    "# Importing modules, libraries, data"
   ]
  },
  {
   "cell_type": "code",
   "execution_count": null,
   "metadata": {},
   "outputs": [],
   "source": [
    "# code to ensure that any changes made to the functions.py file are reflected in the Jupyter Notebook upon import\n",
    "%load_ext autoreload\n",
    "%autoreload 2"
   ]
  },
  {
   "cell_type": "code",
   "execution_count": null,
   "metadata": {},
   "outputs": [],
   "source": [
    "# importing modules\n",
    "import numpy as np\n",
    "import pandas as pd\n",
    "import matplotlib.pyplot as plt\n",
    "\n",
    "import functions\n",
    "from functions import (\n",
    "    cleaning,\n",
    "    formatting,\n",
    "    new_columns,\n",
    "    fuzzy_match_clients,\n",
    "    anonymize_clients,\n",
    "    dropping_column_with_private_info\n",
    ")\n",
    "\n",
    "# For privacy reasons this functions_clients file will not be shared\n",
    "import functions_clients\n",
    "from functions_clients import (\n",
    "    cleaning_invoice_number,\n",
    "    cleaning_private_info,\n",
    "    deleting_test_orders\n",
    ")\n",
    "\n",
    "from thefuzz import fuzz"
   ]
  },
  {
   "cell_type": "code",
   "execution_count": null,
   "metadata": {},
   "outputs": [],
   "source": [
    "df = pd.read_csv(\"orders_data.csv\")"
   ]
  },
  {
   "cell_type": "markdown",
   "metadata": {},
   "source": [
    "# Data Cleaning"
   ]
  },
  {
   "cell_type": "code",
   "execution_count": null,
   "metadata": {},
   "outputs": [],
   "source": [
    "# Data cleaning\n",
    "df = cleaning(df)\n",
    "\n",
    "# Formatting dataframe, like datetime, column names etc. \n",
    "df = formatting(df)\n",
    "\n",
    "# New columns that will be helpful for the analysis: \"Customer full address\" and \"Subtotal products\".\n",
    "df = new_columns(df)\n",
    "\n",
    "\n",
    "# Functions for cleaning client info\n",
    "# For privacy reasons these functions will not be shared\n",
    "df = cleaning_invoice_number(df)\n",
    "df = cleaning_private_info(df)\n",
    "df = deleting_test_orders(df)\n",
    "\n",
    "\n",
    "# Identifing and correcting similar client information\n",
    "df = fuzzy_match_clients(df)\n",
    "\n",
    "# Creating a column with a code for each unique client\n",
    "df = anonymize_clients(df)\n",
    "\n",
    "# Deleting the columns that contain private info of clients\n",
    "df = dropping_column_with_private_info(df)\n",
    "\n",
    "# Resetting index\n",
    "df = df.reset_index(drop=True)"
   ]
  },
  {
   "cell_type": "markdown",
   "metadata": {},
   "source": [
    "# Analysis"
   ]
  },
  {
   "cell_type": "code",
   "execution_count": null,
   "metadata": {},
   "outputs": [],
   "source": [
    "# Creating a new column that has a format like: Mar 2023\n",
    "df[\"Order date by month\"] = df[\"Order date\"].dt.strftime('%b %Y') \n",
    "df[\"Order date by month\"]\n",
    "\n",
    "# Taking data only from the last 2 years, to keep the data more relevant\n",
    "# Because I will examine whole months, I am taking until Feb in consideration (currently it is mid March)\n",
    "current_date = pd.Timestamp.now()\n",
    "\n",
    "two_years_data = df[(df['Order date'] >= current_date - pd.DateOffset(years=2)) & \n",
    "                    (df['Order date'] < pd.Timestamp(year=current_date.year, month=current_date.month, day=1))]\n",
    "\n",
    "sales_per_month = two_years_data.groupby('Order date by month')['Subtotal products'].sum()\n",
    "\n",
    "# Convert 'Order date by month' to categorical with preferred order\n",
    "preferred_month_order = ['Mar 2022', 'Apr 2022', 'May 2022', 'Jun 2022', 'Jul 2022', 'Aug 2022', 'Sep 2022', \n",
    "                         'Oct 2022', 'Nov 2022', 'Dec 2022', 'Jan 2023', 'Feb 2023', 'Mar 2023', 'Apr 2023', \n",
    "                         'May 2023', 'Jun 2023', 'Jul 2023', 'Aug 2023', 'Sep 2023', \n",
    "                         'Oct 2023', 'Nov 2023', 'Dec 2023', 'Jan 2024', 'Feb 2024']"
   ]
  },
  {
   "cell_type": "markdown",
   "metadata": {},
   "source": [
    "### Sales in the last 2 years"
   ]
  },
  {
   "cell_type": "code",
   "execution_count": null,
   "metadata": {},
   "outputs": [],
   "source": [
    "# PLOT to show increase of sales the last 2 years\n",
    "\n",
    "# Sort the data based on the preferred month order\n",
    "sales_per_month = sales_per_month.reindex(preferred_month_order)\n",
    "\n",
    "# Plot the data as a line graph\n",
    "sales_per_month.plot(figsize=(10, 6), color='#E92D7A', linestyle='-',linewidth=10)\n",
    "\n",
    "# Adding labels and title\n",
    "plt.title('Increase of sales over the last 2 years (monthly)', fontsize=20)\n",
    "plt.xlabel('Date', fontsize=18)\n",
    "plt.ylabel('Sales amount', fontsize=18)\n",
    "plt.grid(True)\n",
    "\n",
    "# Adjust font size of ticks\n",
    "plt.xticks(fontsize=14)\n",
    "plt.yticks(fontsize=14)\n",
    "\n",
    "plt.savefig('sales_over_last_two_years.png')\n",
    "\n",
    "# Displaying the plot\n",
    "plt.show()"
   ]
  },
  {
   "cell_type": "markdown",
   "metadata": {},
   "source": [
    "### Orders in the last 2 years"
   ]
  },
  {
   "cell_type": "code",
   "execution_count": null,
   "metadata": {},
   "outputs": [],
   "source": [
    "orders_per_month = two_years_data.groupby('Order date by month')['Invoice number'].count()\n",
    "\n",
    "# Sort the data based on the preferred month order\n",
    "orders_per_month = orders_per_month.reindex(preferred_month_order)\n",
    "\n",
    "# Plot the data as a line graph\n",
    "orders_per_month.plot(figsize=(10, 6), color='#E92D7A', linestyle='-',linewidth=10)\n",
    "\n",
    "# Adding labels and title\n",
    "plt.title('Increase of orders over the last 2 years (monthly)', fontsize=20)\n",
    "plt.xlabel('Date', fontsize=18)\n",
    "plt.ylabel('Orders', fontsize=18)\n",
    "plt.grid(True)\n",
    "\n",
    "# Adjust font size of ticks\n",
    "plt.xticks(fontsize=14)\n",
    "plt.yticks(fontsize=14)\n",
    "\n",
    "plt.savefig('orders_over_last_two_years.png')\n",
    "\n",
    "# Displaying the plot\n",
    "plt.show()"
   ]
  },
  {
   "cell_type": "markdown",
   "metadata": {},
   "source": [
    "### Average order value in the last 2 years"
   ]
  },
  {
   "cell_type": "code",
   "execution_count": null,
   "metadata": {
    "scrolled": true
   },
   "outputs": [],
   "source": [
    "# Group by 'Order date by month' and calculate sum of 'Subtotal products' and count of 'Invoice number'\n",
    "monthly_summary = two_years_data.groupby('Order date by month').agg({'Subtotal products': 'sum', 'Invoice number': 'count'})\n",
    "\n",
    "# Calculate the average order value per month\n",
    "avg_order_value_per_month = monthly_summary['Subtotal products'] / monthly_summary['Invoice number']\n",
    "\n",
    "# Sort the data based on the preferred month order\n",
    "avg_order_value_per_month = avg_order_value_per_month.reindex(preferred_month_order)\n",
    "\n",
    "# Plot the data as a line graph\n",
    "plt.figure(figsize=(10, 6))\n",
    "avg_order_value_per_month.plot(color='#E92D7A', linestyle='-',linewidth=10)\n",
    "\n",
    "# Adding labels and title\n",
    "plt.title('Average order value over the last 2 years (monthly)', fontsize=20)\n",
    "plt.xlabel('Month', fontsize=18)\n",
    "plt.ylabel('Average Order Value', fontsize=18)\n",
    "plt.grid(True)\n",
    "\n",
    "# Adjust font size of ticks\n",
    "plt.xticks(fontsize=14)\n",
    "plt.yticks(fontsize=14)\n",
    "\n",
    "plt.savefig('average_order_value_over_last_two_years.png')\n",
    "\n",
    "# Displaying the plot\n",
    "plt.show()"
   ]
  },
  {
   "cell_type": "markdown",
   "metadata": {},
   "source": [
    "### Order behaviour of clients in the last 1 year - Order Frequency"
   ]
  },
  {
   "cell_type": "code",
   "execution_count": null,
   "metadata": {},
   "outputs": [],
   "source": [
    "# Taking data only from the last year, to keep the data more relevant, examinining only whole months\n",
    "last_year_data = df[(df['Order date'] >= current_date - pd.DateOffset(years=1)) & \n",
    "                    (df['Order date'] < pd.Timestamp(year=current_date.year, month=current_date.month, day=1))]\n",
    "\n",
    "order_frequency = last_year_data.groupby([\"Client codes\",\"Order date by month\"])[\"Invoice number\"].count()"
   ]
  },
  {
   "cell_type": "code",
   "execution_count": null,
   "metadata": {},
   "outputs": [],
   "source": [
    "# resetting index to convert the DataFrameGroupBy object to dataframe\n",
    "order_frequency = order_frequency.reset_index()\n",
    "\n",
    "# Create a pivot table to indicate whether a client has ordered for each month\n",
    "pivot_table = order_frequency.pivot_table(index='Client codes', columns='Order date by month', values='Invoice number', aggfunc='count', fill_value=0)\n",
    "\n",
    "# Total sum of months with order\n",
    "months_ordered = pivot_table.sum(axis=1)\n",
    "\n",
    "def label_map(num):\n",
    "    if num < 2:\n",
    "        return \"1 month\"\n",
    "    elif num < 6:\n",
    "        return \"2-5 months\"\n",
    "    elif num < 11:\n",
    "        return \"6-10 months\"\n",
    "    else:\n",
    "        return \"Every month (11-12 months)\"\n",
    "\n",
    "# applying label map and value counts of the labels\n",
    "# so here I have each client of the last year, and the label of them (1 month, 2-5 months etc)\n",
    "# I will use that also below for other plots/ analysis\n",
    "ordering_behavior_labels = months_ordered.apply(label_map)\n",
    "ordering_behavior_counts = ordering_behavior_labels.value_counts()\n",
    "\n",
    "# Reindexing to have the preferred ordered\n",
    "ordered_index = ['1 month', '2-5 months', '6-10 months', 'Every month (11-12 months)']\n",
    "ordering_behavior_counts = ordering_behavior_counts.reindex(ordered_index)\n",
    "\n",
    "colors = ['#009FE3', '#99C331', '#F56C22', '#A353DB']\n",
    "\n",
    "# Create a bar plot\n",
    "plt.figure(figsize=(8, 6))\n",
    "ordering_behavior_counts.plot(kind='bar', color=colors)\n",
    "\n",
    "# Adding labels and title\n",
    "plt.title('Ordering Behavior of Clients (Last 1 Year)')\n",
    "plt.xlabel('Ordering Behavior')\n",
    "plt.ylabel('Number of Clients')\n",
    "plt.xticks(rotation=45)  # Rotate x-axis labels for better readability\n",
    "\n",
    "plt.savefig('ordering_behaviour_of_clients.png', bbox_inches='tight')\n",
    "\n",
    "# Display the plot\n",
    "plt.show()"
   ]
  },
  {
   "cell_type": "markdown",
   "metadata": {},
   "source": [
    "### Order behaviour of clients in the last 1 year - Average Order Amount"
   ]
  },
  {
   "cell_type": "code",
   "execution_count": null,
   "metadata": {},
   "outputs": [],
   "source": [
    "# here I take the first() cause I know that there is only one value per invoice number\n",
    "average_subtotal_frequency = last_year_data.groupby([\"Client codes\",\"Order date by month\",\n",
    "                                                   \"Invoice number\"])[\"Subtotal products\"].first()\n",
    "\n",
    "# resetting index to convert the DataFrameGroupBy object to dataframe\n",
    "average_subtotal_frequency = average_subtotal_frequency.reset_index()\n",
    "\n",
    "# Create a pivot table to indicate whether a client has ordered for each month\n",
    "pivot_table_2 = average_subtotal_frequency.pivot_table(index='Client codes', \n",
    "                                                    columns='Order date by month', \n",
    "                                                    values='Subtotal products', \n",
    "                                                    aggfunc= lambda x: x.mean().round(2), \n",
    "                                                    fill_value=0)\n",
    "\n",
    "# making dataframe with client codes and their average subtotal per order for the year\n",
    "average_subtotal = pivot_table_2.apply(lambda x: x[x != 0.0].mean(), axis=1)\n",
    "\n",
    "# here I replace the client codes with their label (of how often they order) that I have generated above\n",
    "average_subtotal.index = ordering_behavior_labels.values\n",
    "\n",
    "# Group the average_subtotal Series by its index and find the mean for each unique index value.\n",
    "average_subtotal_counts = average_subtotal.groupby(level=0).mean()\n",
    "\n",
    "# Reindexing to have the preferred ordered\n",
    "ordered_index = ['1 month', '2-5 months', '6-10 months', 'Every month (11-12 months)']\n",
    "average_subtotal_counts = average_subtotal_counts.reindex(ordered_index)\n",
    "\n",
    "colors = ['#009FE3', '#99C331', '#F56C22', '#A353DB']\n",
    "\n",
    "# Plot the average subtotal products\n",
    "plt.figure(figsize=(8, 6))\n",
    "average_subtotal_counts.plot(kind='bar', color=colors)\n",
    "\n",
    "# Adding labels and title\n",
    "plt.title('Average order amount by Ordering Behavior (Last 1 Year)')\n",
    "plt.xlabel('Ordering Behavior')\n",
    "plt.ylabel('Average Order Amount')\n",
    "plt.xticks(rotation=45)  # Rotate x-axis labels for better readability\n",
    "\n",
    "plt.savefig('average_subtotal_products_by_ordering_behavior.png', bbox_inches='tight')\n",
    "plt.show()"
   ]
  },
  {
   "cell_type": "markdown",
   "metadata": {},
   "source": [
    "### Order behaviour of clients in the last 1 year - Shipping costs"
   ]
  },
  {
   "cell_type": "code",
   "execution_count": null,
   "metadata": {},
   "outputs": [],
   "source": [
    "# doing the same process as above for Shipping fees\n",
    "\n",
    "# here I take the first() cause I know that there is only one value per invoice number\n",
    "average_shipping_fees_frequency = last_year_data.groupby([\"Client codes\",\"Order date by month\",\n",
    "                                                   \"Invoice number\"])[\"Shipping fees\"].first()\n",
    "\n",
    "# resetting index to convert the DataFrameGroupBy object to dataframe\n",
    "average_shipping_fees_frequency = average_shipping_fees_frequency.reset_index()\n",
    "\n",
    "# Create a pivot table to indicate whether a client has ordered for each month\n",
    "pivot_table_3 = average_shipping_fees_frequency.pivot_table(index='Client codes', \n",
    "                                                    columns='Order date by month', \n",
    "                                                    values='Shipping fees', \n",
    "                                                    aggfunc= lambda x: x.mean().round(2), \n",
    "                                                    fill_value=0)\n",
    "\n",
    "# making dataframe with client codes and their average shipping fees per order for the year\n",
    "average_shipping_fees = pivot_table_3.apply(lambda x: x[x != 0.0].mean(), axis=1)\n",
    "\n",
    "# here I replace the client codes with their label (of how often they order) that I have generated above\n",
    "average_shipping_fees.index = ordering_behavior_labels.values\n",
    "\n",
    "# Group the average shipping fees Series by its index and find the mean for each unique index value.\n",
    "average_shipping_fees_counts = average_shipping_fees.groupby(level=0).mean()\n",
    "\n",
    "# Reindexing to have the preferred ordered\n",
    "ordered_index = ['1 month', '2-5 months', '6-10 months', 'Every month (11-12 months)']\n",
    "average_shipping_fees_counts = average_shipping_fees_counts.reindex(ordered_index)\n",
    "\n",
    "colors = ['#009FE3', '#99C331', '#F56C22', '#A353DB']\n",
    "\n",
    "# Plot the average shipping costs\n",
    "plt.figure(figsize=(8, 6))\n",
    "average_shipping_fees_counts.plot(kind='bar', color=colors)\n",
    "\n",
    "# Adding labels and title\n",
    "plt.title('Average Shipping Costs by Ordering Behavior (Last 1 Year)')\n",
    "plt.xlabel('Ordering Behavior')\n",
    "plt.ylabel('Average Shipping Costs')\n",
    "plt.xticks(rotation=45)  # Rotate x-axis labels for better readability\n",
    "\n",
    "plt.savefig('average_shipping_costs_by_ordering_behavior.png', bbox_inches='tight')\n",
    "plt.show()"
   ]
  }
 ],
 "metadata": {
  "kernelspec": {
   "display_name": "Python 3 (ipykernel)",
   "language": "python",
   "name": "python3"
  },
  "language_info": {
   "codemirror_mode": {
    "name": "ipython",
    "version": 3
   },
   "file_extension": ".py",
   "mimetype": "text/x-python",
   "name": "python",
   "nbconvert_exporter": "python",
   "pygments_lexer": "ipython3",
   "version": "3.11.8"
  }
 },
 "nbformat": 4,
 "nbformat_minor": 4
}
